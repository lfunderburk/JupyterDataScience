{
 "cells": [
  {
   "cell_type": "code",
   "execution_count": 72,
   "metadata": {},
   "outputs": [
    {
     "data": {
      "text/html": [
       "\n",
       "<script>\n",
       "code_show=true;\n",
       "function code_toggle(){\n",
       "if (code_show){\n",
       "$('div.input').hide();\n",
       "}else{\n",
       "$('div.input').show();\n",
       "}\n",
       "code_show = !code_show\n",
       "}\n",
       "$ ( document ).read(code_toggle);\n",
       "</script>\n",
       "To toggle on/off the code, click <a href=\"javascript:code_toggle()\">here</a>.\n"
      ],
      "text/plain": [
       "<IPython.core.display.HTML object>"
      ]
     },
     "execution_count": 72,
     "metadata": {},
     "output_type": "execute_result"
    }
   ],
   "source": [
    "# Adding code to hide code cells within our notebook\n",
    "from IPython.display import HTML \n",
    "\n",
    "HTML(\n",
    "'''\n",
    "<script>\n",
    "code_show=true;\n",
    "function code_toggle(){\n",
    "if (code_show){\n",
    "$('div.input').hide();\n",
    "}else{\n",
    "$('div.input').show();\n",
    "}\n",
    "code_show = !code_show\n",
    "}\n",
    "$ ( document ).read(code_toggle);\n",
    "</script>\n",
    "To toggle on/off the code, click <a href=\"javascript:code_toggle()\">here</a>.\n",
    "'''\n",
    ")"
   ]
  },
  {
   "cell_type": "markdown",
   "metadata": {},
   "source": [
    "\n",
    "<h2 align='center'>Exploring a StatsCan Dataset</h2>\n",
    "\n",
    "Author: Laura G.F.\n",
    "\n",
    "Created on: October 22 2010"
   ]
  },
  {
   "cell_type": "markdown",
   "metadata": {},
   "source": [
    "<h2 align='center'>Abstract</h2>\n",
    "\n",
    "In this notebook we will explore a Stats Can Dataset, perform basic data exploration and visualization. \n",
    "\n",
    "https://www150.statcan.gc.ca/t1/tbl1/en/tv.action?pid=1310011101#tables "
   ]
  },
  {
   "cell_type": "markdown",
   "metadata": {},
   "source": [
    "\n",
    "<h3 align='center'>Importing the dataset from StatsCan </h3>\n",
    "We first begin by downloading the data and importing Python libraries. \n",
    "\n",
    "This particular dataset contains information on \"Number and rates of new cases of primary cancer, by cancer type, age group and sex\". \n",
    "\n",
    "Reference: Statistics Canada.  Table  13-10-0111-01   Number and rates of new cases of primary cancer, by cancer type, age group and sex\n",
    "DOI:   https://doi.org/10.25318/1310011101-eng"
   ]
  },
  {
   "cell_type": "code",
   "execution_count": 4,
   "metadata": {},
   "outputs": [],
   "source": [
    "# Importing libraries and modules \n",
    "import pandas as pd\n",
    "import zipfile\n",
    "import matplotlib.pyplot as plt \n",
    "from matplotlib.pyplot import figure"
   ]
  },
  {
   "cell_type": "code",
   "execution_count": 3,
   "metadata": {},
   "outputs": [],
   "source": [
    "# Downloading the data \n",
    "#!wget https://bit.ly/2JbKmPs\n"
   ]
  },
  {
   "cell_type": "code",
   "execution_count": 7,
   "metadata": {},
   "outputs": [],
   "source": [
    "# Define a function to extract the data\n",
    "def read_data_compute_df(data_file):\n",
    "    # Read zipped file\n",
    "    zf = zipfile.ZipFile(data_file)\n",
    "    # Parse csv content without unzipping\n",
    "    df = pd.read_csv(zf.open(str(13100111)+'.csv'),low_memory=False)\n",
    "    \n",
    "    return df"
   ]
  },
  {
   "cell_type": "code",
   "execution_count": 11,
   "metadata": {},
   "outputs": [],
   "source": [
    "# Manual download file_name = \"./13100111-eng.zip\" \n",
    "file_name = \"2JbKmPs\"\n",
    "cancer_data = read_data_compute_df(file_name)"
   ]
  },
  {
   "cell_type": "markdown",
   "metadata": {},
   "source": [
    "We look at the first five entries of the StatsCan dataset. We notice lots of internal use type fields. We will clean them up."
   ]
  },
  {
   "cell_type": "code",
   "execution_count": 9,
   "metadata": {},
   "outputs": [
    {
     "data": {
      "text/html": [
       "<div>\n",
       "<style scoped>\n",
       "    .dataframe tbody tr th:only-of-type {\n",
       "        vertical-align: middle;\n",
       "    }\n",
       "\n",
       "    .dataframe tbody tr th {\n",
       "        vertical-align: top;\n",
       "    }\n",
       "\n",
       "    .dataframe thead th {\n",
       "        text-align: right;\n",
       "    }\n",
       "</style>\n",
       "<table border=\"1\" class=\"dataframe\">\n",
       "  <thead>\n",
       "    <tr style=\"text-align: right;\">\n",
       "      <th></th>\n",
       "      <th>REF_DATE</th>\n",
       "      <th>GEO</th>\n",
       "      <th>DGUID</th>\n",
       "      <th>Age group</th>\n",
       "      <th>Sex</th>\n",
       "      <th>Primary types of cancer (ICD-O-3)</th>\n",
       "      <th>Characteristics</th>\n",
       "      <th>UOM</th>\n",
       "      <th>UOM_ID</th>\n",
       "      <th>SCALAR_FACTOR</th>\n",
       "      <th>SCALAR_ID</th>\n",
       "      <th>VECTOR</th>\n",
       "      <th>COORDINATE</th>\n",
       "      <th>VALUE</th>\n",
       "      <th>STATUS</th>\n",
       "      <th>SYMBOL</th>\n",
       "      <th>TERMINATED</th>\n",
       "      <th>DECIMALS</th>\n",
       "    </tr>\n",
       "  </thead>\n",
       "  <tbody>\n",
       "    <tr>\n",
       "      <th>0</th>\n",
       "      <td>1992</td>\n",
       "      <td>Canada</td>\n",
       "      <td>2016A000011124</td>\n",
       "      <td>Total, all ages</td>\n",
       "      <td>Both sexes</td>\n",
       "      <td>Total, all primary sites of cancer [C00.0-C80.9]</td>\n",
       "      <td>Number of new cancer cases</td>\n",
       "      <td>Number</td>\n",
       "      <td>223</td>\n",
       "      <td>units</td>\n",
       "      <td>0</td>\n",
       "      <td>v43786579</td>\n",
       "      <td>1.1.1.1.1</td>\n",
       "      <td>116310.0</td>\n",
       "      <td>NaN</td>\n",
       "      <td>NaN</td>\n",
       "      <td>NaN</td>\n",
       "      <td>0</td>\n",
       "    </tr>\n",
       "    <tr>\n",
       "      <th>1</th>\n",
       "      <td>1992</td>\n",
       "      <td>Canada</td>\n",
       "      <td>2016A000011124</td>\n",
       "      <td>Total, all ages</td>\n",
       "      <td>Both sexes</td>\n",
       "      <td>Total, all primary sites of cancer [C00.0-C80.9]</td>\n",
       "      <td>Cancer incidence</td>\n",
       "      <td>Rate per 100,000 population</td>\n",
       "      <td>265</td>\n",
       "      <td>units</td>\n",
       "      <td>0</td>\n",
       "      <td>v43786580</td>\n",
       "      <td>1.1.1.1.2</td>\n",
       "      <td>410.0</td>\n",
       "      <td>NaN</td>\n",
       "      <td>NaN</td>\n",
       "      <td>NaN</td>\n",
       "      <td>1</td>\n",
       "    </tr>\n",
       "    <tr>\n",
       "      <th>2</th>\n",
       "      <td>1992</td>\n",
       "      <td>Canada</td>\n",
       "      <td>2016A000011124</td>\n",
       "      <td>Total, all ages</td>\n",
       "      <td>Both sexes</td>\n",
       "      <td>Total, all primary sites of cancer [C00.0-C80.9]</td>\n",
       "      <td>Low 95% confidence interval, cancer incidence</td>\n",
       "      <td>Rate per 100,000 population</td>\n",
       "      <td>265</td>\n",
       "      <td>units</td>\n",
       "      <td>0</td>\n",
       "      <td>v43786581</td>\n",
       "      <td>1.1.1.1.3</td>\n",
       "      <td>407.6</td>\n",
       "      <td>NaN</td>\n",
       "      <td>NaN</td>\n",
       "      <td>NaN</td>\n",
       "      <td>1</td>\n",
       "    </tr>\n",
       "    <tr>\n",
       "      <th>3</th>\n",
       "      <td>1992</td>\n",
       "      <td>Canada</td>\n",
       "      <td>2016A000011124</td>\n",
       "      <td>Total, all ages</td>\n",
       "      <td>Both sexes</td>\n",
       "      <td>Total, all primary sites of cancer [C00.0-C80.9]</td>\n",
       "      <td>High 95% confidence interval, cancer incidence</td>\n",
       "      <td>Rate per 100,000 population</td>\n",
       "      <td>265</td>\n",
       "      <td>units</td>\n",
       "      <td>0</td>\n",
       "      <td>v43786582</td>\n",
       "      <td>1.1.1.1.4</td>\n",
       "      <td>412.3</td>\n",
       "      <td>NaN</td>\n",
       "      <td>NaN</td>\n",
       "      <td>NaN</td>\n",
       "      <td>1</td>\n",
       "    </tr>\n",
       "    <tr>\n",
       "      <th>4</th>\n",
       "      <td>1992</td>\n",
       "      <td>Canada</td>\n",
       "      <td>2016A000011124</td>\n",
       "      <td>Total, all ages</td>\n",
       "      <td>Both sexes</td>\n",
       "      <td>Lip [C00.0-C00.9]</td>\n",
       "      <td>Number of new cancer cases</td>\n",
       "      <td>Number</td>\n",
       "      <td>223</td>\n",
       "      <td>units</td>\n",
       "      <td>0</td>\n",
       "      <td>v43786659</td>\n",
       "      <td>1.1.1.2.1</td>\n",
       "      <td>620.0</td>\n",
       "      <td>NaN</td>\n",
       "      <td>NaN</td>\n",
       "      <td>NaN</td>\n",
       "      <td>0</td>\n",
       "    </tr>\n",
       "  </tbody>\n",
       "</table>\n",
       "</div>"
      ],
      "text/plain": [
       "   REF_DATE     GEO           DGUID        Age group         Sex  \\\n",
       "0      1992  Canada  2016A000011124  Total, all ages  Both sexes   \n",
       "1      1992  Canada  2016A000011124  Total, all ages  Both sexes   \n",
       "2      1992  Canada  2016A000011124  Total, all ages  Both sexes   \n",
       "3      1992  Canada  2016A000011124  Total, all ages  Both sexes   \n",
       "4      1992  Canada  2016A000011124  Total, all ages  Both sexes   \n",
       "\n",
       "                  Primary types of cancer (ICD-O-3)  \\\n",
       "0  Total, all primary sites of cancer [C00.0-C80.9]   \n",
       "1  Total, all primary sites of cancer [C00.0-C80.9]   \n",
       "2  Total, all primary sites of cancer [C00.0-C80.9]   \n",
       "3  Total, all primary sites of cancer [C00.0-C80.9]   \n",
       "4                                 Lip [C00.0-C00.9]   \n",
       "\n",
       "                                  Characteristics  \\\n",
       "0                      Number of new cancer cases   \n",
       "1                                Cancer incidence   \n",
       "2   Low 95% confidence interval, cancer incidence   \n",
       "3  High 95% confidence interval, cancer incidence   \n",
       "4                      Number of new cancer cases   \n",
       "\n",
       "                           UOM  UOM_ID SCALAR_FACTOR  SCALAR_ID     VECTOR  \\\n",
       "0                       Number     223        units           0  v43786579   \n",
       "1  Rate per 100,000 population     265        units           0  v43786580   \n",
       "2  Rate per 100,000 population     265        units           0  v43786581   \n",
       "3  Rate per 100,000 population     265        units           0  v43786582   \n",
       "4                       Number     223        units           0  v43786659   \n",
       "\n",
       "  COORDINATE     VALUE STATUS  SYMBOL  TERMINATED  DECIMALS  \n",
       "0  1.1.1.1.1  116310.0    NaN     NaN         NaN         0  \n",
       "1  1.1.1.1.2     410.0    NaN     NaN         NaN         1  \n",
       "2  1.1.1.1.3     407.6    NaN     NaN         NaN         1  \n",
       "3  1.1.1.1.4     412.3    NaN     NaN         NaN         1  \n",
       "4  1.1.1.2.1     620.0    NaN     NaN         NaN         0  "
      ]
     },
     "execution_count": 9,
     "metadata": {},
     "output_type": "execute_result"
    }
   ],
   "source": [
    "# Take a look at the data \n",
    "cancer_data.head()"
   ]
  },
  {
   "cell_type": "code",
   "execution_count": 12,
   "metadata": {},
   "outputs": [],
   "source": [
    "# Clean up dataset\n",
    "clean_cancer_data = cancer_data.drop(columns = \n",
    "                                    [\"DGUID\", \"UOM_ID\",\"UOM\", \"SCALAR_ID\",\"VECTOR\",\"COORDINATE\",\"STATUS\",\\\n",
    "                                    \"TERMINATED\",\"DECIMALS\",\"SYMBOL\"])"
   ]
  },
  {
   "cell_type": "markdown",
   "metadata": {},
   "source": [
    "In our case, and after cleaning up the data, we have dates which range from 1992 to 2007, all provinces in Canada, multiple age groups, male, female and bith sexes, multiple primary types od cancer, as well as whether the case is new, cancer incidence, as well as low and high 95% confidence interval cancer incidence. "
   ]
  },
  {
   "cell_type": "code",
   "execution_count": 13,
   "metadata": {},
   "outputs": [
    {
     "data": {
      "text/html": [
       "<div>\n",
       "<style scoped>\n",
       "    .dataframe tbody tr th:only-of-type {\n",
       "        vertical-align: middle;\n",
       "    }\n",
       "\n",
       "    .dataframe tbody tr th {\n",
       "        vertical-align: top;\n",
       "    }\n",
       "\n",
       "    .dataframe thead th {\n",
       "        text-align: right;\n",
       "    }\n",
       "</style>\n",
       "<table border=\"1\" class=\"dataframe\">\n",
       "  <thead>\n",
       "    <tr style=\"text-align: right;\">\n",
       "      <th></th>\n",
       "      <th>REF_DATE</th>\n",
       "      <th>GEO</th>\n",
       "      <th>Age group</th>\n",
       "      <th>Sex</th>\n",
       "      <th>Primary types of cancer (ICD-O-3)</th>\n",
       "      <th>Characteristics</th>\n",
       "      <th>SCALAR_FACTOR</th>\n",
       "      <th>VALUE</th>\n",
       "    </tr>\n",
       "  </thead>\n",
       "  <tbody>\n",
       "    <tr>\n",
       "      <th>0</th>\n",
       "      <td>1992</td>\n",
       "      <td>Canada</td>\n",
       "      <td>Total, all ages</td>\n",
       "      <td>Both sexes</td>\n",
       "      <td>Total, all primary sites of cancer [C00.0-C80.9]</td>\n",
       "      <td>Number of new cancer cases</td>\n",
       "      <td>units</td>\n",
       "      <td>116310.0</td>\n",
       "    </tr>\n",
       "    <tr>\n",
       "      <th>1</th>\n",
       "      <td>1992</td>\n",
       "      <td>Canada</td>\n",
       "      <td>Total, all ages</td>\n",
       "      <td>Both sexes</td>\n",
       "      <td>Total, all primary sites of cancer [C00.0-C80.9]</td>\n",
       "      <td>Cancer incidence</td>\n",
       "      <td>units</td>\n",
       "      <td>410.0</td>\n",
       "    </tr>\n",
       "    <tr>\n",
       "      <th>2</th>\n",
       "      <td>1992</td>\n",
       "      <td>Canada</td>\n",
       "      <td>Total, all ages</td>\n",
       "      <td>Both sexes</td>\n",
       "      <td>Total, all primary sites of cancer [C00.0-C80.9]</td>\n",
       "      <td>Low 95% confidence interval, cancer incidence</td>\n",
       "      <td>units</td>\n",
       "      <td>407.6</td>\n",
       "    </tr>\n",
       "    <tr>\n",
       "      <th>3</th>\n",
       "      <td>1992</td>\n",
       "      <td>Canada</td>\n",
       "      <td>Total, all ages</td>\n",
       "      <td>Both sexes</td>\n",
       "      <td>Total, all primary sites of cancer [C00.0-C80.9]</td>\n",
       "      <td>High 95% confidence interval, cancer incidence</td>\n",
       "      <td>units</td>\n",
       "      <td>412.3</td>\n",
       "    </tr>\n",
       "    <tr>\n",
       "      <th>4</th>\n",
       "      <td>1992</td>\n",
       "      <td>Canada</td>\n",
       "      <td>Total, all ages</td>\n",
       "      <td>Both sexes</td>\n",
       "      <td>Lip [C00.0-C00.9]</td>\n",
       "      <td>Number of new cancer cases</td>\n",
       "      <td>units</td>\n",
       "      <td>620.0</td>\n",
       "    </tr>\n",
       "  </tbody>\n",
       "</table>\n",
       "</div>"
      ],
      "text/plain": [
       "   REF_DATE     GEO        Age group         Sex  \\\n",
       "0      1992  Canada  Total, all ages  Both sexes   \n",
       "1      1992  Canada  Total, all ages  Both sexes   \n",
       "2      1992  Canada  Total, all ages  Both sexes   \n",
       "3      1992  Canada  Total, all ages  Both sexes   \n",
       "4      1992  Canada  Total, all ages  Both sexes   \n",
       "\n",
       "                  Primary types of cancer (ICD-O-3)  \\\n",
       "0  Total, all primary sites of cancer [C00.0-C80.9]   \n",
       "1  Total, all primary sites of cancer [C00.0-C80.9]   \n",
       "2  Total, all primary sites of cancer [C00.0-C80.9]   \n",
       "3  Total, all primary sites of cancer [C00.0-C80.9]   \n",
       "4                                 Lip [C00.0-C00.9]   \n",
       "\n",
       "                                  Characteristics SCALAR_FACTOR     VALUE  \n",
       "0                      Number of new cancer cases        units   116310.0  \n",
       "1                                Cancer incidence        units      410.0  \n",
       "2   Low 95% confidence interval, cancer incidence        units      407.6  \n",
       "3  High 95% confidence interval, cancer incidence        units      412.3  \n",
       "4                      Number of new cancer cases        units      620.0  "
      ]
     },
     "execution_count": 13,
     "metadata": {},
     "output_type": "execute_result"
    }
   ],
   "source": [
    "clean_cancer_data.head()"
   ]
  },
  {
   "cell_type": "markdown",
   "metadata": {},
   "source": [
    "Now that we have cleaned our dataset, we want to get all unique values for each category."
   ]
  },
  {
   "cell_type": "code",
   "execution_count": 19,
   "metadata": {},
   "outputs": [],
   "source": [
    "# Get data subsets\n",
    "dates = clean_cancer_data.iloc[:,0].unique()\n",
    "geog = clean_cancer_data.iloc[:,1].unique()\n",
    "age_group = clean_cancer_data.iloc[:,2].unique()\n",
    "sex = clean_cancer_data.iloc[:,3].unique()\n",
    "cancer_type = clean_cancer_data.iloc[:,4].unique()\n",
    "characteristics = clean_cancer_data.iloc[:,5].unique()"
   ]
  },
  {
   "cell_type": "markdown",
   "metadata": {},
   "source": [
    "For this example, I am interested in the number of new cancer cases, for Lung and Bronchus cancer, for multiple age groups, both sexes, all of Canada. Notice that you can use the subsets of the data to explore multiple sub tables. "
   ]
  },
  {
   "cell_type": "code",
   "execution_count": 50,
   "metadata": {},
   "outputs": [],
   "source": [
    "# Suppose I am interested in the following subset\n",
    "year = dates[15]\n",
    "sp_sex = sex[0]\n",
    "sp_age = age_group[7]\n",
    "geoLoc = geog[0]\n",
    "cancer = 'Lung and bronchus [C34.0-C34.9]'\n",
    "charac = 'Number of new cancer cases'"
   ]
  },
  {
   "cell_type": "code",
   "execution_count": 51,
   "metadata": {},
   "outputs": [],
   "source": [
    "# Extract entries in our dataset that contain the information I want\n",
    "# ( clean_cancer_data[\"Age group\"] == sp_age) &\n",
    "subset_1 = clean_cancer_data[ (clean_cancer_data[\"REF_DATE\"] == year ) & \\\n",
    "                             (clean_cancer_data[\"Sex\"] == sp_sex ) & \\\n",
    "                            (clean_cancer_data[\"GEO\"]==geoLoc) & \\\n",
    "                             (clean_cancer_data[\"Characteristics\"]==charac) &\\\n",
    "                  (clean_cancer_data[\"Primary types of cancer (ICD-O-3)\"] == cancer)\n",
    "                 ] \n",
    "#subset_1"
   ]
  },
  {
   "cell_type": "markdown",
   "metadata": {},
   "source": [
    "I now create a barplot for the subset of the data that I am interested in. "
   ]
  },
  {
   "cell_type": "code",
   "execution_count": 67,
   "metadata": {},
   "outputs": [
    {
     "data": {
      "image/png": "[encoded data removed]",
      "text/plain": [
       "<Figure size 864x288 with 1 Axes>"
      ]
     },
     "metadata": {
      "needs_background": "light"
     },
     "output_type": "display_data"
    }
   ],
   "source": [
    "# Plot our table \n",
    "# Specifying the figure size\n",
    "figure(figsize=(12,4))\n",
    "# Bar chart of data subset\n",
    "plt.bar(subset_1[\"Age group\"] , subset_1[\"VALUE\"], label=cancer)\n",
    "# Add a title\n",
    "plt.title(str(charac) + \", \" + str(year) + \", \" + str(geoLoc) + \", \" + str(sp_sex)\\\n",
    "        +\", \" + str(cancer)  , fontsize=15 )\n",
    "# Add x y labels\n",
    "plt.xlabel(\"Number of New Cancer cases \", fontsize=10)\n",
    "plt.ylabel(\"Age group\", fontsize=10)\n",
    "# Rotate x axis label\n",
    "plt.xticks(rotation=90);"
   ]
  },
  {
   "cell_type": "markdown",
   "metadata": {},
   "source": [
    "<h2 align='center'>Remarks</h2>\n",
    "We see that there is an increase in number of new cancer cases, lung and bronchus cancer, as individuals age. "
   ]
  },
  {
   "cell_type": "markdown",
   "metadata": {},
   "source": [
    "<h2 align='center'>Generalizing</h2>\n",
    "\n",
    "In the next section we will define a function that takes as input subcategories of the data and returns a barplot. "
   ]
  },
  {
   "cell_type": "code",
   "execution_count": 73,
   "metadata": {},
   "outputs": [],
   "source": [
    "def bar_plot_subcategories(year, sp_sex, geoLoc, charac,cancer):\n",
    "    subset_1 = clean_cancer_data[ (clean_cancer_data[\"REF_DATE\"] == year ) & \\\n",
    "                             (clean_cancer_data[\"Sex\"] == sp_sex ) & \\\n",
    "                            (clean_cancer_data[\"GEO\"]==geoLoc) & \\\n",
    "                             (clean_cancer_data[\"Characteristics\"]==charac) &\\\n",
    "                  (clean_cancer_data[\"Primary types of cancer (ICD-O-3)\"] == cancer)\n",
    "                 ] \n",
    "    # Plot our table \n",
    "    # Specifying the figure size\n",
    "    figure(figsize=(12,4))\n",
    "    # Bar chart of data subset\n",
    "    plt.bar(subset_1[\"Age group\"] , subset_1[\"VALUE\"], label=cancer)\n",
    "    # Add a title\n",
    "    plt.title(str(charac) + \", \" + str(year) + \", \" + str(geoLoc) + \", \" + str(sp_sex)\\\n",
    "            +\", \" + str(cancer)  , fontsize=15 )\n",
    "    # Add x y labels\n",
    "    plt.xlabel(\"Number of New Cancer cases \", fontsize=10)\n",
    "    plt.ylabel(\"Age group\", fontsize=10)\n",
    "    # Rotate x axis label\n",
    "    plt.xticks(rotation=90);"
   ]
  },
  {
   "cell_type": "code",
   "execution_count": null,
   "metadata": {},
   "outputs": [],
   "source": [
    "# Suppose I am interested in the following subset\n",
    "year = dates[15]\n",
    "sp_sex = sex[0]\n",
    "sp_age = age_group[7]\n",
    "geoLoc = geog[0]\n",
    "cancer = 'Lung and bronchus [C34.0-C34.9]'\n",
    "charac = 'Number of new cancer cases'"
   ]
  }
 ],
 "metadata": {
  "kernelspec": {
   "display_name": "Python 3",
   "language": "python",
   "name": "python3"
  },
  "language_info": {
   "codemirror_mode": {
    "name": "ipython",
    "version": 3
   },
   "file_extension": ".py",
   "mimetype": "text/x-python",
   "name": "python",
   "nbconvert_exporter": "python",
   "pygments_lexer": "ipython3",
   "version": "3.7.3"
  }
 },
 "nbformat": 4,
 "nbformat_minor": 2
}
