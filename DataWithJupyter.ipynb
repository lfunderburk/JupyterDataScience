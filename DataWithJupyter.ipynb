{
 "cells": [
  {
   "cell_type": "code",
   "execution_count": 1,
   "metadata": {},
   "outputs": [
    {
     "data": {
      "text/html": [
       "\n",
       "<script>\n",
       "code_show=true;\n",
       "function code_toggle(){\n",
       "if (code_show){\n",
       "$('div.input').hide();\n",
       "}else{\n",
       "$('div.input').show();\n",
       "}\n",
       "code_show = !code_show\n",
       "}\n",
       "$ ( document ).read(code_toggle);\n",
       "</script>\n",
       "To toggle on/off the code, click <a href=\"javascript:code_toggle()\">here</a>.\n"
      ],
      "text/plain": [
       "<IPython.core.display.HTML object>"
      ]
     },
     "execution_count": 1,
     "metadata": {},
     "output_type": "execute_result"
    }
   ],
   "source": [
    "# Adding code to hide code cells within our notebook\n",
    "from IPython.display import HTML \n",
    "\n",
    "HTML(\n",
    "'''\n",
    "<script>\n",
    "code_show=true;\n",
    "function code_toggle(){\n",
    "if (code_show){\n",
    "$('div.input').hide();\n",
    "}else{\n",
    "$('div.input').show();\n",
    "}\n",
    "code_show = !code_show\n",
    "}\n",
    "$ ( document ).read(code_toggle);\n",
    "</script>\n",
    "To toggle on/off the code, click <a href=\"javascript:code_toggle()\">here</a>.\n",
    "'''\n",
    ")"
   ]
  },
  {
   "cell_type": "markdown",
   "metadata": {},
   "source": [
    "\n",
    "<h2 align='center'>Exploring a StatsCan Dataset</h2>\n",
    "\n",
    "Author: Laura G.F.\n",
    "\n",
    "Created on: October 22 2010"
   ]
  },
  {
   "cell_type": "markdown",
   "metadata": {},
   "source": [
    "<h2 align='center'>Abstract</h2>\n",
    "\n",
    "In this notebook we will explore a Stats Can Dataset, perform basic data exploration and visualization. \n",
    "\n",
    "https://www150.statcan.gc.ca/t1/tbl1/en/tv.action?pid=1310011101#tables "
   ]
  },
  {
   "cell_type": "markdown",
   "metadata": {},
   "source": [
    "\n",
    "<h3 align='center'>Importing the dataset from StatsCan </h3>\n",
    "We first begin by downloading the data and importing Python libraries. \n",
    "\n",
    "This particular dataset contains information on \"Number and rates of new cases of primary cancer, by cancer type, age group and sex\". \n",
    "\n",
    "Reference: Statistics Canada.  Table  13-10-0111-01   Number and rates of new cases of primary cancer, by cancer type, age group and sex\n",
    "DOI:   https://doi.org/10.25318/1310011101-eng"
   ]
  },
  {
   "cell_type": "code",
   "execution_count": 2,
   "metadata": {},
   "outputs": [],
   "source": [
    "# Importing libraries and modules \n",
    "import pandas as pd\n",
    "import zipfile\n",
    "import matplotlib.pyplot as plt \n",
    "from matplotlib.pyplot import figure"
   ]
  },
  {
   "cell_type": "code",
   "execution_count": 6,
   "metadata": {},
   "outputs": [
    {
     "name": "stdout",
     "output_type": "stream",
     "text": [
      "--2019-10-23 19:27:06--  https://bit.ly/2JbKmPs\n",
      "Resolving bit.ly (bit.ly)... 67.199.248.10, 67.199.248.11\n",
      "Connecting to bit.ly (bit.ly)|67.199.248.10|:443... connected.\n",
      "HTTP request sent, awaiting response... 301 Moved Permanently\n",
      "Location: https://www.dropbox.com/s/2ex6xbg8z1oj7eh/13100111-eng.zip [following]\n",
      "--2019-10-23 19:27:06--  https://www.dropbox.com/s/2ex6xbg8z1oj7eh/13100111-eng.zip\n",
      "Resolving www.dropbox.com (www.dropbox.com)... 162.125.8.1, 2620:100:601b:1::a27d:801\n",
      "Connecting to www.dropbox.com (www.dropbox.com)|162.125.8.1|:443... connected.\n",
      "HTTP request sent, awaiting response... 301 Moved Permanently\n",
      "Location: /s/raw/2ex6xbg8z1oj7eh/13100111-eng.zip [following]\n",
      "--2019-10-23 19:27:07--  https://www.dropbox.com/s/raw/2ex6xbg8z1oj7eh/13100111-eng.zip\n",
      "Reusing existing connection to www.dropbox.com:443.\n",
      "HTTP request sent, awaiting response... 302 Found\n",
      "Location: https://uc48a6fb04ca4c6ae8438b13c1f0.dl.dropboxusercontent.com/cd/0/inline/Aq-wK5VKdHL4KVzy1ub_8iAwI9KcfRH_xMoiU2Xtdm8RKXl5Y1FAwYHQmyYgADFko0lIe9iHnmZT29_cc61zs4DJjzQZFUxkgmcV4vXgxpW8YA/file# [following]\n",
      "--2019-10-23 19:27:07--  https://uc48a6fb04ca4c6ae8438b13c1f0.dl.dropboxusercontent.com/cd/0/inline/Aq-wK5VKdHL4KVzy1ub_8iAwI9KcfRH_xMoiU2Xtdm8RKXl5Y1FAwYHQmyYgADFko0lIe9iHnmZT29_cc61zs4DJjzQZFUxkgmcV4vXgxpW8YA/file\n",
      "Resolving uc48a6fb04ca4c6ae8438b13c1f0.dl.dropboxusercontent.com (uc48a6fb04ca4c6ae8438b13c1f0.dl.dropboxusercontent.com)... 162.125.8.6, 2620:100:601b:6::a27d:806\n",
      "Connecting to uc48a6fb04ca4c6ae8438b13c1f0.dl.dropboxusercontent.com (uc48a6fb04ca4c6ae8438b13c1f0.dl.dropboxusercontent.com)|162.125.8.6|:443... connected.\n",
      "HTTP request sent, awaiting response... 302 FOUND\n",
      "Location: /cd/0/inline2/Aq9r5PD1n3GmtlpZW1tjtM53nGopYCOD5zi-dFjfGJo_OL1HnFwJXPTU3dplVq4BVcLwOgckdZ8QOuWRczATHiYOn2Tbw3BuZsjNVluCrb88uxVYlo5xyzUyUpvvbyBp3FHxPTQtrLiAzEb-RtiXW3Fa4yp3UlrMHfU-EhAXg3xLaET2APVCFyGxDeQg663YQB66iIG5iDdyBz01eusd59Y8JBBmXq08VClN5Inb-nyXtWTKTGGBr_UTUCG30-QWIYtqVI2IVWb0-WW07C2BY6MWgthBGqpP-JNGa5HpHeGz8Gfy_sdQY64b4sbmGn4iBCZS8-b1Qt0wKaE00uS0f8Wp/file [following]\n",
      "--2019-10-23 19:27:08--  https://uc48a6fb04ca4c6ae8438b13c1f0.dl.dropboxusercontent.com/cd/0/inline2/Aq9r5PD1n3GmtlpZW1tjtM53nGopYCOD5zi-dFjfGJo_OL1HnFwJXPTU3dplVq4BVcLwOgckdZ8QOuWRczATHiYOn2Tbw3BuZsjNVluCrb88uxVYlo5xyzUyUpvvbyBp3FHxPTQtrLiAzEb-RtiXW3Fa4yp3UlrMHfU-EhAXg3xLaET2APVCFyGxDeQg663YQB66iIG5iDdyBz01eusd59Y8JBBmXq08VClN5Inb-nyXtWTKTGGBr_UTUCG30-QWIYtqVI2IVWb0-WW07C2BY6MWgthBGqpP-JNGa5HpHeGz8Gfy_sdQY64b4sbmGn4iBCZS8-b1Qt0wKaE00uS0f8Wp/file\n",
      "Reusing existing connection to uc48a6fb04ca4c6ae8438b13c1f0.dl.dropboxusercontent.com:443.\n",
      "HTTP request sent, awaiting response... 200 OK\n",
      "Length: 80546985 (77M) [application/zip]\n",
      "Saving to: ‘2JbKmPs’\n",
      "\n",
      "2JbKmPs             100%[===================>]  76.82M  38.8MB/s    in 2.0s    \n",
      "\n",
      "2019-10-23 19:27:10 (38.8 MB/s) - ‘2JbKmPs’ saved [80546985/80546985]\n",
      "\n"
     ]
    }
   ],
   "source": [
    "# Downloading the data \n",
    "!wget https://bit.ly/2JbKmPs\n"
   ]
  },
  {
   "cell_type": "code",
   "execution_count": 7,
   "metadata": {},
   "outputs": [],
   "source": [
    "# Define a function to extract the data\n",
    "def read_data_compute_df(data_file):\n",
    "    # Read zipped file\n",
    "    zf = zipfile.ZipFile(data_file)\n",
    "    # Parse csv content without unzipping\n",
    "    df = pd.read_csv(zf.open(str(13100111)+'.csv'),low_memory=False)\n",
    "    \n",
    "    return df"
   ]
  },
  {
   "cell_type": "code",
   "execution_count": null,
   "metadata": {},
   "outputs": [],
   "source": [
    "# Manual download file_name = \"./13100111-eng.zip\" \n",
    "file_name = \"2JbKmPs\"\n",
    "cancer_data = read_data_compute_df(file_name)"
   ]
  },
  {
   "cell_type": "markdown",
   "metadata": {},
   "source": [
    "We look at the first five entries of the StatsCan dataset. We notice lots of internal use type fields. We will clean them up."
   ]
  },
  {
   "cell_type": "code",
   "execution_count": null,
   "metadata": {},
   "outputs": [],
   "source": [
    "# Take a look at the data \n",
    "cancer_data.head()"
   ]
  },
  {
   "cell_type": "code",
   "execution_count": null,
   "metadata": {},
   "outputs": [],
   "source": [
    "# Clean up dataset\n",
    "clean_cancer_data = cancer_data.drop(columns = \n",
    "                                    [\"DGUID\", \"UOM_ID\",\"UOM\", \"SCALAR_ID\",\"VECTOR\",\"COORDINATE\",\"STATUS\",\\\n",
    "                                    \"TERMINATED\",\"DECIMALS\",\"SYMBOL\"])"
   ]
  },
  {
   "cell_type": "markdown",
   "metadata": {},
   "source": [
    "In our case, and after cleaning up the data, we have dates which range from 1992 to 2007, all provinces in Canada, multiple age groups, male, female and bith sexes, multiple primary types od cancer, as well as whether the case is new, cancer incidence, as well as low and high 95% confidence interval cancer incidence. "
   ]
  },
  {
   "cell_type": "code",
   "execution_count": null,
   "metadata": {},
   "outputs": [],
   "source": [
    "clean_cancer_data.head()"
   ]
  },
  {
   "cell_type": "markdown",
   "metadata": {},
   "source": [
    "Now that we have cleaned our dataset, we want to get all unique values for each category."
   ]
  },
  {
   "cell_type": "code",
   "execution_count": null,
   "metadata": {},
   "outputs": [],
   "source": [
    "# Get data subsets\n",
    "dates = clean_cancer_data.iloc[:,0].unique()\n",
    "geog = clean_cancer_data.iloc[:,1].unique()\n",
    "age_group = clean_cancer_data.iloc[:,2].unique()\n",
    "sex = clean_cancer_data.iloc[:,3].unique()\n",
    "cancer_type = clean_cancer_data.iloc[:,4].unique()\n",
    "characteristics = clean_cancer_data.iloc[:,5].unique()"
   ]
  },
  {
   "cell_type": "markdown",
   "metadata": {},
   "source": [
    "For this example, I am interested in the number of new cancer cases, for Lung and Bronchus cancer, for multiple age groups, both sexes, all of Canada. Notice that you can use the subsets of the data to explore multiple sub tables. "
   ]
  },
  {
   "cell_type": "code",
   "execution_count": null,
   "metadata": {},
   "outputs": [],
   "source": [
    "# Suppose I am interested in the following subset\n",
    "year = dates[15]\n",
    "sp_sex = sex[0]\n",
    "sp_age = age_group[7]\n",
    "geoLoc = geog[0]\n",
    "cancer = 'Lung and bronchus [C34.0-C34.9]'\n",
    "charac = 'Number of new cancer cases'"
   ]
  },
  {
   "cell_type": "code",
   "execution_count": null,
   "metadata": {},
   "outputs": [],
   "source": [
    "# Extract entries in our dataset that contain the information I want\n",
    "# ( clean_cancer_data[\"Age group\"] == sp_age) &\n",
    "subset_1 = clean_cancer_data[ (clean_cancer_data[\"REF_DATE\"] == year ) & \\\n",
    "                             (clean_cancer_data[\"Sex\"] == sp_sex ) & \\\n",
    "                            (clean_cancer_data[\"GEO\"]==geoLoc) & \\\n",
    "                             (clean_cancer_data[\"Characteristics\"]==charac) &\\\n",
    "                  (clean_cancer_data[\"Primary types of cancer (ICD-O-3)\"] == cancer)\n",
    "                 ] \n",
    "#subset_1"
   ]
  },
  {
   "cell_type": "markdown",
   "metadata": {},
   "source": [
    "I now create a barplot for the subset of the data that I am interested in. "
   ]
  },
  {
   "cell_type": "code",
   "execution_count": null,
   "metadata": {},
   "outputs": [],
   "source": [
    "# Plot our table \n",
    "# Specifying the figure size\n",
    "figure(figsize=(12,4))\n",
    "# Bar chart of data subset\n",
    "plt.bar(subset_1[\"Age group\"] , subset_1[\"VALUE\"], label=cancer)\n",
    "# Add a title\n",
    "plt.title(str(charac) + \", \" + str(year) + \", \" + str(geoLoc) + \", \" + str(sp_sex)\\\n",
    "        +\", \" + str(cancer)  , fontsize=15 )\n",
    "# Add x y labels\n",
    "plt.xlabel(\"Number of New Cancer cases \", fontsize=10)\n",
    "plt.ylabel(\"Age group\", fontsize=10)\n",
    "# Rotate x axis label\n",
    "plt.xticks(rotation=90);"
   ]
  },
  {
   "cell_type": "markdown",
   "metadata": {},
   "source": [
    "<h2 align='center'>Remarks</h2>\n",
    "We see that there is an increase in number of new cancer cases, lung and bronchus cancer, as individuals age. "
   ]
  },
  {
   "cell_type": "markdown",
   "metadata": {},
   "source": [
    "<h2 align='center'>Generalizing</h2>\n",
    "\n",
    "In the next section we will define a function that takes as input subcategories of the data and returns a barplot. "
   ]
  },
  {
   "cell_type": "code",
   "execution_count": null,
   "metadata": {},
   "outputs": [],
   "source": [
    "def bar_plot_subcategories(year, sp_sex, geoLoc, charac,cancer):\n",
    "    subset_1 = clean_cancer_data[ (clean_cancer_data[\"REF_DATE\"] == year ) & \\\n",
    "                             (clean_cancer_data[\"Sex\"] == sp_sex ) & \\\n",
    "                            (clean_cancer_data[\"GEO\"]==geoLoc) & \\\n",
    "                             (clean_cancer_data[\"Characteristics\"]==charac) &\\\n",
    "                  (clean_cancer_data[\"Primary types of cancer (ICD-O-3)\"] == cancer)\n",
    "                 ] \n",
    "    # Plot our table \n",
    "    # Specifying the figure size\n",
    "    figure(figsize=(12,4))\n",
    "    # Bar chart of data subset\n",
    "    plt.bar(subset_1[\"Age group\"] , subset_1[\"VALUE\"], label=cancer)\n",
    "    # Add a title\n",
    "    plt.title(str(charac) + \", \" + str(year) + \", \" + str(geoLoc) + \", \" + str(sp_sex)\\\n",
    "            +\", \" + str(cancer)  , fontsize=15 )\n",
    "    # Add x y labels\n",
    "    plt.xlabel(\"Number of New Cancer cases \", fontsize=10)\n",
    "    plt.ylabel(\"Age group\", fontsize=10)\n",
    "    # Rotate x axis label\n",
    "    plt.xticks(rotation=90);"
   ]
  },
  {
   "cell_type": "code",
   "execution_count": null,
   "metadata": {},
   "outputs": [],
   "source": [
    "# Suppose I am interested in the following subset\n",
    "year = dates[15]\n",
    "sp_sex = sex[0]\n",
    "sp_age = age_group[7]\n",
    "geoLoc = geog[0]\n",
    "cancer = 'Lung and bronchus [C34.0-C34.9]'\n",
    "charac = 'Number of new cancer cases'"
   ]
  },
  {
   "cell_type": "code",
   "execution_count": null,
   "metadata": {},
   "outputs": [],
   "source": []
  }
 ],
 "metadata": {
  "kernelspec": {
   "display_name": "Python 3",
   "language": "python",
   "name": "python3"
  },
  "language_info": {
   "codemirror_mode": {
    "name": "ipython",
    "version": 3
   },
   "file_extension": ".py",
   "mimetype": "text/x-python",
   "name": "python",
   "nbconvert_exporter": "python",
   "pygments_lexer": "ipython3",
   "version": "3.7.3"
  }
 },
 "nbformat": 4,
 "nbformat_minor": 2
}
